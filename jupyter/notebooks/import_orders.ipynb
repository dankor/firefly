{
 "cells": [
  {
   "cell_type": "code",
   "execution_count": 1,
   "metadata": {},
   "outputs": [
    {
     "name": "stdout",
     "output_type": "stream",
     "text": [
      "SQLite database 'orders.db' with table 'order' has been created.\n"
     ]
    }
   ],
   "source": [
    "import sqlite3\n",
    "\n",
    "db_name = \"orders.db\"\n",
    "table_name = \"order\"\n",
    "\n",
    "conn = sqlite3.connect(db_name)\n",
    "cursor = conn.cursor()\n",
    "\n",
    "cursor.execute(f\"\"\"\n",
    "CREATE TABLE IF NOT EXISTS \"{table_name}\" (\n",
    "    OrderID INTEGER PRIMARY KEY,\n",
    "    CustomerID INTEGER,\n",
    "    Product TEXT,\n",
    "    Quantity INTEGER,\n",
    "    Price REAL,\n",
    "    OrderDate TEXT\n",
    ")\n",
    "\"\"\")\n",
    "\n",
    "data = [\n",
    "    (1, 101, \"Apple\", 5, 0.50, \"2023-10-01\"),\n",
    "    (2, 102, \"Banana\", 3, 0.30, \"2023-10-01\"),\n",
    "    (3, 101, \"Orange\", 2, 0.80, \"2023-10-02\"),\n",
    "    (4, 103, \"Apple\", 10, 0.50, \"2023-10-03\"),\n",
    "    (5, 104, \"Banana\", 7, 0.30, \"2023-10-03\"),\n",
    "    (6, 102, \"Grapes\", 4, 2.00, \"2023-10-04\"),\n",
    "    (7, 105, \"Orange\", 8, 0.80, \"2023-10-05\"),\n",
    "    (8, 103, \"Banana\", 6, 0.30, \"2023-10-05\"),\n",
    "    (9, 106, \"Apple\", 9, 0.50, \"2023-10-06\"),\n",
    "    (10, 104, \"Grapes\", 2, 2.00, \"2023-10-06\"),\n",
    "]\n",
    "\n",
    "cursor.executemany(f\"\"\"\n",
    "INSERT INTO \"{table_name}\" (OrderID, CustomerID, Product, Quantity, Price, OrderDate)\n",
    "VALUES (?, ?, ?, ?, ?, ?)\n",
    "\"\"\", data)\n",
    "\n",
    "conn.commit()\n",
    "conn.close()\n",
    "\n",
    "print(f\"SQLite database '{db_name}' with table '{table_name}' has been created.\")"
   ]
  }
 ],
 "metadata": {
  "kernelspec": {
   "display_name": "Python 3 (ipykernel)",
   "language": "python",
   "name": "python3"
  },
  "language_info": {
   "codemirror_mode": {
    "name": "ipython",
    "version": 3
   },
   "file_extension": ".py",
   "mimetype": "text/x-python",
   "name": "python",
   "nbconvert_exporter": "python",
   "pygments_lexer": "ipython3",
   "version": "3.11.6"
  }
 },
 "nbformat": 4,
 "nbformat_minor": 4
}
